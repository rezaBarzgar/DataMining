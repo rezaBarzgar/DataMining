{
 "cells": [
  {
   "cell_type": "markdown",
   "metadata": {},
   "source": [
    "# Data Mining Project - Phase 2\n",
    "## reza barzgar - 9622762384"
   ]
  },
  {
   "cell_type": "code",
   "execution_count": 1,
   "metadata": {},
   "outputs": [],
   "source": [
    "import numpy as np\n",
    "import pandas as pd\n",
    "import pyfpgrowth\n",
    "from IPython.core.display import display"
   ]
  },
  {
   "cell_type": "markdown",
   "metadata": {},
   "source": [
    "# Part 1"
   ]
  },
  {
   "cell_type": "code",
   "execution_count": 2,
   "metadata": {},
   "outputs": [
    {
     "data": {
      "text/html": [
       "<div>\n",
       "<style scoped>\n",
       "    .dataframe tbody tr th:only-of-type {\n",
       "        vertical-align: middle;\n",
       "    }\n",
       "\n",
       "    .dataframe tbody tr th {\n",
       "        vertical-align: top;\n",
       "    }\n",
       "\n",
       "    .dataframe thead th {\n",
       "        text-align: right;\n",
       "    }\n",
       "</style>\n",
       "<table border=\"1\" class=\"dataframe\">\n",
       "  <thead>\n",
       "    <tr style=\"text-align: right;\">\n",
       "      <th></th>\n",
       "      <th>Unnamed: 0</th>\n",
       "      <th>archive_by_user</th>\n",
       "      <th>brand</th>\n",
       "      <th>cat1</th>\n",
       "      <th>cat2</th>\n",
       "      <th>cat3</th>\n",
       "      <th>city</th>\n",
       "      <th>created_at</th>\n",
       "      <th>desc</th>\n",
       "      <th>id</th>\n",
       "      <th>image_count</th>\n",
       "      <th>mileage</th>\n",
       "      <th>platform</th>\n",
       "      <th>price</th>\n",
       "      <th>title</th>\n",
       "      <th>type</th>\n",
       "      <th>year</th>\n",
       "    </tr>\n",
       "  </thead>\n",
       "  <tbody>\n",
       "    <tr>\n",
       "      <th>0</th>\n",
       "      <td>0</td>\n",
       "      <td>False</td>\n",
       "      <td>NaN</td>\n",
       "      <td>for-the-home</td>\n",
       "      <td>furniture-and-home-decore</td>\n",
       "      <td>sofa-armchair</td>\n",
       "      <td>Tehran</td>\n",
       "      <td>Tuesday 07PM</td>\n",
       "      <td>کلاسیک و شیک و استثنایی\\nچرم مالزی\\nچوب راش\\nف...</td>\n",
       "      <td>54761638662241</td>\n",
       "      <td>5</td>\n",
       "      <td>NaN</td>\n",
       "      <td>mobile</td>\n",
       "      <td>3850000</td>\n",
       "      <td>ست مبلمان و نهارخوری ٩ نفره</td>\n",
       "      <td>NaN</td>\n",
       "      <td>NaN</td>\n",
       "    </tr>\n",
       "    <tr>\n",
       "      <th>1</th>\n",
       "      <td>1</td>\n",
       "      <td>False</td>\n",
       "      <td>NaN</td>\n",
       "      <td>for-the-home</td>\n",
       "      <td>furniture-and-home-decore</td>\n",
       "      <td>antiques-and-art</td>\n",
       "      <td>Mashhad</td>\n",
       "      <td>Tuesday 07PM</td>\n",
       "      <td>سلام,یک عدد گلدون نخل سه طبقه ی سالم دارم با پ...</td>\n",
       "      <td>42727631379133</td>\n",
       "      <td>1</td>\n",
       "      <td>NaN</td>\n",
       "      <td>mobile</td>\n",
       "      <td>30000</td>\n",
       "      <td>گلدون مصنوعی نخل</td>\n",
       "      <td>NaN</td>\n",
       "      <td>NaN</td>\n",
       "    </tr>\n",
       "    <tr>\n",
       "      <th>2</th>\n",
       "      <td>2</td>\n",
       "      <td>False</td>\n",
       "      <td>NaN</td>\n",
       "      <td>vehicles</td>\n",
       "      <td>cars</td>\n",
       "      <td>heavy</td>\n",
       "      <td>Mashhad</td>\n",
       "      <td>Tuesday 07PM</td>\n",
       "      <td>سریال 43j$NUMبدون شکستگی سه حلقه لاستیک نو یک ...</td>\n",
       "      <td>63194439667302</td>\n",
       "      <td>4</td>\n",
       "      <td>NaN</td>\n",
       "      <td>mobile</td>\n",
       "      <td>-1</td>\n",
       "      <td>لودر کاتر پیلار 950</td>\n",
       "      <td>NaN</td>\n",
       "      <td>NaN</td>\n",
       "    </tr>\n",
       "    <tr>\n",
       "      <th>3</th>\n",
       "      <td>3</td>\n",
       "      <td>False</td>\n",
       "      <td>NaN</td>\n",
       "      <td>for-the-home</td>\n",
       "      <td>furniture-and-home-decore</td>\n",
       "      <td>sofa-armchair</td>\n",
       "      <td>Tehran</td>\n",
       "      <td>Tuesday 07PM</td>\n",
       "      <td>مبل راحتی هفت نفره شامل سه نفره یک عدد دونفره ...</td>\n",
       "      <td>19133025491169</td>\n",
       "      <td>4</td>\n",
       "      <td>NaN</td>\n",
       "      <td>mobile</td>\n",
       "      <td>600000</td>\n",
       "      <td>مبل راحتی هفت نفره بامیز جلو مبلی</td>\n",
       "      <td>NaN</td>\n",
       "      <td>NaN</td>\n",
       "    </tr>\n",
       "    <tr>\n",
       "      <th>4</th>\n",
       "      <td>4</td>\n",
       "      <td>False</td>\n",
       "      <td>NaN</td>\n",
       "      <td>personal</td>\n",
       "      <td>baby-and-toys</td>\n",
       "      <td>personal-toys</td>\n",
       "      <td>Karaj</td>\n",
       "      <td>Tuesday 08PM</td>\n",
       "      <td>شارژی کنترلی سویچ حمل تا 35 کیلو صندلی برای دو...</td>\n",
       "      <td>58998998335444</td>\n",
       "      <td>2</td>\n",
       "      <td>NaN</td>\n",
       "      <td>mobile</td>\n",
       "      <td>450000</td>\n",
       "      <td>ماشین شارژی</td>\n",
       "      <td>NaN</td>\n",
       "      <td>NaN</td>\n",
       "    </tr>\n",
       "    <tr>\n",
       "      <th>...</th>\n",
       "      <td>...</td>\n",
       "      <td>...</td>\n",
       "      <td>...</td>\n",
       "      <td>...</td>\n",
       "      <td>...</td>\n",
       "      <td>...</td>\n",
       "      <td>...</td>\n",
       "      <td>...</td>\n",
       "      <td>...</td>\n",
       "      <td>...</td>\n",
       "      <td>...</td>\n",
       "      <td>...</td>\n",
       "      <td>...</td>\n",
       "      <td>...</td>\n",
       "      <td>...</td>\n",
       "      <td>...</td>\n",
       "      <td>...</td>\n",
       "    </tr>\n",
       "    <tr>\n",
       "      <th>947630</th>\n",
       "      <td>947630</td>\n",
       "      <td>True</td>\n",
       "      <td>NaN</td>\n",
       "      <td>for-the-home</td>\n",
       "      <td>building-and-garden</td>\n",
       "      <td>stove-and-heating</td>\n",
       "      <td>Shiraz</td>\n",
       "      <td>Friday 07AM</td>\n",
       "      <td>دوعدد یکی یک متری و دیگری 1.4 متری موجود است\\n...</td>\n",
       "      <td>16127180351093</td>\n",
       "      <td>1</td>\n",
       "      <td>NaN</td>\n",
       "      <td>web</td>\n",
       "      <td>180000</td>\n",
       "      <td>رادیاتور پنلی نو ترک</td>\n",
       "      <td>NaN</td>\n",
       "      <td>NaN</td>\n",
       "    </tr>\n",
       "    <tr>\n",
       "      <th>947631</th>\n",
       "      <td>947631</td>\n",
       "      <td>True</td>\n",
       "      <td>NaN</td>\n",
       "      <td>electronic-devices</td>\n",
       "      <td>audio-video</td>\n",
       "      <td>camera-camcoders</td>\n",
       "      <td>Tehran</td>\n",
       "      <td>Friday 02PM</td>\n",
       "      <td>دوربین هندی کم کنون مدل لگریا fs36\\n\\nعکاسی و ...</td>\n",
       "      <td>29805298491725</td>\n",
       "      <td>1</td>\n",
       "      <td>NaN</td>\n",
       "      <td>mobile</td>\n",
       "      <td>350000</td>\n",
       "      <td>دوربین هندی کم  کنون</td>\n",
       "      <td>NaN</td>\n",
       "      <td>NaN</td>\n",
       "    </tr>\n",
       "    <tr>\n",
       "      <th>947632</th>\n",
       "      <td>947632</td>\n",
       "      <td>True</td>\n",
       "      <td>پراید صندوق‌دار::Pride</td>\n",
       "      <td>vehicles</td>\n",
       "      <td>cars</td>\n",
       "      <td>light</td>\n",
       "      <td>Shiraz</td>\n",
       "      <td>Friday 04PM</td>\n",
       "      <td>پراید دوگانه کارخانه میباشد و کم کارکرد.روکش ....</td>\n",
       "      <td>55514317985619</td>\n",
       "      <td>3</td>\n",
       "      <td>43000.0</td>\n",
       "      <td>mobile</td>\n",
       "      <td>17400000</td>\n",
       "      <td>پراید دوگانه کارخانه مدل93</td>\n",
       "      <td>NaN</td>\n",
       "      <td>1393</td>\n",
       "    </tr>\n",
       "    <tr>\n",
       "      <th>947633</th>\n",
       "      <td>947633</td>\n",
       "      <td>True</td>\n",
       "      <td>NaN</td>\n",
       "      <td>electronic-devices</td>\n",
       "      <td>mobile-tablet</td>\n",
       "      <td>mobile-tablet-accessories</td>\n",
       "      <td>Mashhad</td>\n",
       "      <td>Friday 05PM</td>\n",
       "      <td>مونو پد یانگ تد همراه با پایه و اینه عقبش\\nواس...</td>\n",
       "      <td>65938921533442</td>\n",
       "      <td>1</td>\n",
       "      <td>NaN</td>\n",
       "      <td>mobile</td>\n",
       "      <td>40000</td>\n",
       "      <td>مونوپد یانگ تد خیلی تمیز و نو</td>\n",
       "      <td>NaN</td>\n",
       "      <td>NaN</td>\n",
       "    </tr>\n",
       "    <tr>\n",
       "      <th>947634</th>\n",
       "      <td>947634</td>\n",
       "      <td>True</td>\n",
       "      <td>NaN</td>\n",
       "      <td>personal</td>\n",
       "      <td>jewelry-and-watches</td>\n",
       "      <td>watches</td>\n",
       "      <td>Shiraz</td>\n",
       "      <td>Friday 05PM</td>\n",
       "      <td>جواب فقط تماس و. وات ساپ</td>\n",
       "      <td>18312774360687</td>\n",
       "      <td>1</td>\n",
       "      <td>NaN</td>\n",
       "      <td>mobile</td>\n",
       "      <td>25000</td>\n",
       "      <td>ساعت مارک</td>\n",
       "      <td>NaN</td>\n",
       "      <td>NaN</td>\n",
       "    </tr>\n",
       "  </tbody>\n",
       "</table>\n",
       "<p>775301 rows × 17 columns</p>\n",
       "</div>"
      ],
      "text/plain": [
       "        Unnamed: 0  archive_by_user                   brand  \\\n",
       "0                0            False                     NaN   \n",
       "1                1            False                     NaN   \n",
       "2                2            False                     NaN   \n",
       "3                3            False                     NaN   \n",
       "4                4            False                     NaN   \n",
       "...            ...              ...                     ...   \n",
       "947630      947630             True                     NaN   \n",
       "947631      947631             True                     NaN   \n",
       "947632      947632             True  پراید صندوق‌دار::Pride   \n",
       "947633      947633             True                     NaN   \n",
       "947634      947634             True                     NaN   \n",
       "\n",
       "                      cat1                       cat2  \\\n",
       "0             for-the-home  furniture-and-home-decore   \n",
       "1             for-the-home  furniture-and-home-decore   \n",
       "2                 vehicles                       cars   \n",
       "3             for-the-home  furniture-and-home-decore   \n",
       "4                 personal              baby-and-toys   \n",
       "...                    ...                        ...   \n",
       "947630        for-the-home        building-and-garden   \n",
       "947631  electronic-devices                audio-video   \n",
       "947632            vehicles                       cars   \n",
       "947633  electronic-devices              mobile-tablet   \n",
       "947634            personal        jewelry-and-watches   \n",
       "\n",
       "                             cat3     city    created_at  \\\n",
       "0                   sofa-armchair   Tehran  Tuesday 07PM   \n",
       "1                antiques-and-art  Mashhad  Tuesday 07PM   \n",
       "2                           heavy  Mashhad  Tuesday 07PM   \n",
       "3                   sofa-armchair   Tehran  Tuesday 07PM   \n",
       "4                   personal-toys    Karaj  Tuesday 08PM   \n",
       "...                           ...      ...           ...   \n",
       "947630          stove-and-heating   Shiraz   Friday 07AM   \n",
       "947631           camera-camcoders   Tehran   Friday 02PM   \n",
       "947632                      light   Shiraz   Friday 04PM   \n",
       "947633  mobile-tablet-accessories  Mashhad   Friday 05PM   \n",
       "947634                    watches   Shiraz   Friday 05PM   \n",
       "\n",
       "                                                     desc              id  \\\n",
       "0       کلاسیک و شیک و استثنایی\\nچرم مالزی\\nچوب راش\\nف...  54761638662241   \n",
       "1       سلام,یک عدد گلدون نخل سه طبقه ی سالم دارم با پ...  42727631379133   \n",
       "2       سریال 43j$NUMبدون شکستگی سه حلقه لاستیک نو یک ...  63194439667302   \n",
       "3       مبل راحتی هفت نفره شامل سه نفره یک عدد دونفره ...  19133025491169   \n",
       "4       شارژی کنترلی سویچ حمل تا 35 کیلو صندلی برای دو...  58998998335444   \n",
       "...                                                   ...             ...   \n",
       "947630  دوعدد یکی یک متری و دیگری 1.4 متری موجود است\\n...  16127180351093   \n",
       "947631  دوربین هندی کم کنون مدل لگریا fs36\\n\\nعکاسی و ...  29805298491725   \n",
       "947632  پراید دوگانه کارخانه میباشد و کم کارکرد.روکش ....  55514317985619   \n",
       "947633  مونو پد یانگ تد همراه با پایه و اینه عقبش\\nواس...  65938921533442   \n",
       "947634                           جواب فقط تماس و. وات ساپ  18312774360687   \n",
       "\n",
       "        image_count  mileage platform     price  \\\n",
       "0                 5      NaN   mobile   3850000   \n",
       "1                 1      NaN   mobile     30000   \n",
       "2                 4      NaN   mobile        -1   \n",
       "3                 4      NaN   mobile    600000   \n",
       "4                 2      NaN   mobile    450000   \n",
       "...             ...      ...      ...       ...   \n",
       "947630            1      NaN      web    180000   \n",
       "947631            1      NaN   mobile    350000   \n",
       "947632            3  43000.0   mobile  17400000   \n",
       "947633            1      NaN   mobile     40000   \n",
       "947634            1      NaN   mobile     25000   \n",
       "\n",
       "                                    title type  year  \n",
       "0             ست مبلمان و نهارخوری ٩ نفره  NaN   NaN  \n",
       "1                        گلدون مصنوعی نخل  NaN   NaN  \n",
       "2                     لودر کاتر پیلار 950  NaN   NaN  \n",
       "3       مبل راحتی هفت نفره بامیز جلو مبلی  NaN   NaN  \n",
       "4                             ماشین شارژی  NaN   NaN  \n",
       "...                                   ...  ...   ...  \n",
       "947630               رادیاتور پنلی نو ترک  NaN   NaN  \n",
       "947631               دوربین هندی کم  کنون  NaN   NaN  \n",
       "947632         پراید دوگانه کارخانه مدل93  NaN  1393  \n",
       "947633      مونوپد یانگ تد خیلی تمیز و نو  NaN   NaN  \n",
       "947634                          ساعت مارک  NaN   NaN  \n",
       "\n",
       "[775301 rows x 17 columns]"
      ]
     },
     "metadata": {},
     "output_type": "display_data"
    }
   ],
   "source": [
    "df = pd.read_csv('E:\\DataMining Notebook\\divar_posts_dataset.csv', low_memory=False)\n",
    "df = df[df['cat3'].notna()]\n",
    "display(df)"
   ]
  },
  {
   "cell_type": "code",
   "execution_count": 3,
   "metadata": {},
   "outputs": [
    {
     "data": {
      "text/plain": [
       "[['vehicles-cars-light', 'Tehran'],\n",
       " ['personal-baby-and-toys-strollers-and-accessories', 'Karaj'],\n",
       " ['electronic-devices-computers-modem-and-network-equipment', 'Tehran'],\n",
       " ['electronic-devices-audio-video-tv-projector', 'Mashhad'],\n",
       " ['leisure-hobbies-animals-farm-animals', 'Mashhad'],\n",
       " ['for-the-home-building-and-garden-stove-and-heating', 'Shiraz'],\n",
       " ['vehicles-cars-light', 'Mashhad'],\n",
       " ['vehicles-cars-light', 'Shiraz'],\n",
       " ['personal-clothing-and-shoes-clothing', 'Ahvaz'],\n",
       " ['electronic-devices-mobile-tablet-mobile-phones', 'Shiraz'],\n",
       " ['for-the-home-utensils-and-appliances-fridge-and-freezer', 'Tehran'],\n",
       " ['electronic-devices-mobile-tablet-mobile-phones', 'Tehran'],\n",
       " ['electronic-devices-audio-video-tv-projector', 'Karaj'],\n",
       " ['for-the-home-furniture-and-home-decore-sofa-armchair', 'Tehran'],\n",
       " ['for-the-home-utensils-and-appliances-cookware-tableware', 'Tehran'],\n",
       " ['for-the-home-furniture-and-home-decore-sofa-armchair', 'Isfahan'],\n",
       " ['vehicles-cars-light', 'Shiraz'],\n",
       " ['vehicles-cars-light', 'Tehran'],\n",
       " ['businesses-equipments-and-machinery-offices', 'Mashhad'],\n",
       " ['for-the-home-furniture-and-home-decore-sofa-armchair', 'Tehran']]"
      ]
     },
     "execution_count": 3,
     "metadata": {},
     "output_type": "execute_result"
    }
   ],
   "source": [
    "data = df[['cat1', 'cat2', 'cat3', 'city']].values.tolist()\n",
    "for i in range(len(data)):\n",
    "    data[i] = [str(data[i][0]) + '-' + str(data[i][1]) + '-' + str(data[i][2]) , data[i][3]]\n",
    "data[100:120]"
   ]
  },
  {
   "cell_type": "code",
   "execution_count": 64,
   "metadata": {},
   "outputs": [
    {
     "data": {
      "text/plain": [
       "{('for-the-home-utility-repair-tool',): (('Tehran',), 1.0),\n",
       " ('leisure-hobbies-musical-instruments-drums-percussion',): (('Tehran',), 1.0),\n",
       " ('leisure-hobbies-hobby-collectibles-coin-stamp',): (('Tehran',), 1.0),\n",
       " ('leisure-hobbies-animals-cat',): (('Tehran',), 1.0),\n",
       " ('leisure-hobbies-musical-instruments-traditional',): (('Tehran',), 1.0),\n",
       " ('leisure-hobbies-animals-rodents-rabbits',): (('Tehran',), 1.0),\n",
       " ('leisure-hobbies-sport-leisure-camping-outdoor',): (('Tehran',), 1.0),\n",
       " ('personal-jewelry-and-watches-rhinestones',): (('Tehran',), 1.0),\n",
       " ('leisure-hobbies-sport-leisure-ball-sports',): (('Tehran',), 1.0),\n",
       " ('electronic-devices-audio-video-video-dvdplayer',): (('Tehran',), 1.0),\n",
       " ('electronic-devices-audio-video-mp3-player',): (('Tehran',), 1.0),\n",
       " ('leisure-hobbies-musical-instruments-piano-keyboard',): (('Tehran',), 1.0),\n",
       " ('personal-baby-and-toys-child-car-seat',): (('Tehran',), 1.0),\n",
       " ('for-the-home-building-and-garden-bathroom-wc-sauna',): (('Tehran',), 1.0),\n",
       " ('for-the-home-utensils-and-appliances-dishwasher',): (('Tehran',), 1.0),\n",
       " ('leisure-hobbies-sport-leisure-winter-sports',): (('Tehran',), 1.0),\n",
       " ('leisure-hobbies-musical-instruments-guitar-bass-amplifier',): (('Tehran',),\n",
       "  1.0),\n",
       " ('Shiraz',): (('vehicles-cars-light',), 0.2656702583709883),\n",
       " ('vehicles-cars-light',): (('Tehran',), 0.44772563116952124),\n",
       " ('Karaj',): (('vehicles-cars-light',), 0.15748244577060574),\n",
       " ('Mashhad',): (('vehicles-cars-light',), 0.13083366573593938),\n",
       " ('Tehran',): (('vehicles-cars-light',), 0.1490492510087889)}"
      ]
     },
     "execution_count": 64,
     "metadata": {},
     "output_type": "execute_result"
    }
   ],
   "source": [
    "patterns = pyfpgrowth.find_frequent_patterns(data, 50)\n",
    "rules = pyfpgrowth.generate_association_rules(patterns,0.1)\n",
    "rules"
   ]
  },
  {
   "cell_type": "markdown",
   "metadata": {},
   "source": [
    "# part 2"
   ]
  },
  {
   "cell_type": "code",
   "execution_count": 6,
   "metadata": {},
   "outputs": [
    {
     "name": "stdout",
     "output_type": "stream",
     "text": [
      "orders with more than one item: 48366\n"
     ]
    }
   ],
   "source": [
    "df = pd.read_csv(r'E:\\DataMining Notebook\\orders.csv', low_memory=False).dropna()\n",
    "print('orders with more than one item: {}'.format(df['ID_Customer'].count() - df['ID_Customer'].nunique()))\n",
    "groups = df.groupby(by=['ID_Customer'])\n"
   ]
  },
  {
   "cell_type": "code",
   "execution_count": 7,
   "metadata": {
    "scrolled": false
   },
   "outputs": [
    {
     "name": "stdout",
     "output_type": "stream",
     "text": [
      "count of transactions: 151634\n"
     ]
    }
   ],
   "source": [
    "\n",
    "transactions = []\n",
    "\n",
    "for grp, pdf in groups:\n",
    "    transactions.append(pdf['ID_Item'].tolist())\n",
    "    \n",
    "\n",
    "print(\"count of transactions:\", len(transactions))\n"
   ]
  },
  {
   "cell_type": "code",
   "execution_count": 9,
   "metadata": {},
   "outputs": [
    {
     "data": {
      "text/plain": [
       "{(875835,): ((294942,), 0.75),\n",
       " (31619,): ((294942,), 1.0),\n",
       " (388778,): ((104031,), 1.0),\n",
       " (12011, 12011): ((90776,), 1.0),\n",
       " (12011, 90776): ((), 1.0)}"
      ]
     },
     "execution_count": 9,
     "metadata": {},
     "output_type": "execute_result"
    }
   ],
   "source": [
    "trans = []\n",
    "for item in transactions:\n",
    "    if len(item)>1:\n",
    "        trans.append(item)\n",
    "\n",
    "patterns = pyfpgrowth.find_frequent_patterns(trans, 3)\n",
    "rules = pyfpgrowth.generate_association_rules(patterns,0.7)\n",
    "rules\n",
    "\n"
   ]
  },
  {
   "cell_type": "markdown",
   "metadata": {},
   "source": [
    "# Part 4"
   ]
  },
  {
   "cell_type": "code",
   "execution_count": 56,
   "metadata": {},
   "outputs": [
    {
     "data": {
      "text/plain": [
       "Index(['Unnamed: 0', 'archive_by_user', 'brand', 'cat1', 'cat2', 'cat3',\n",
       "       'city', 'created_at', 'desc', 'id', 'image_count', 'mileage',\n",
       "       'platform', 'price', 'title', 'type', 'year'],\n",
       "      dtype='object')"
      ]
     },
     "execution_count": 56,
     "metadata": {},
     "output_type": "execute_result"
    }
   ],
   "source": [
    "df = pd.read_csv('E:\\DataMining Notebook\\divar_posts_dataset.csv', low_memory=False)\n",
    "df.columns"
   ]
  },
  {
   "cell_type": "code",
   "execution_count": 57,
   "metadata": {},
   "outputs": [
    {
     "data": {
      "text/html": [
       "<div>\n",
       "<style scoped>\n",
       "    .dataframe tbody tr th:only-of-type {\n",
       "        vertical-align: middle;\n",
       "    }\n",
       "\n",
       "    .dataframe tbody tr th {\n",
       "        vertical-align: top;\n",
       "    }\n",
       "\n",
       "    .dataframe thead th {\n",
       "        text-align: right;\n",
       "    }\n",
       "</style>\n",
       "<table border=\"1\" class=\"dataframe\">\n",
       "  <thead>\n",
       "    <tr style=\"text-align: right;\">\n",
       "      <th></th>\n",
       "      <th>created_at</th>\n",
       "      <th>platform</th>\n",
       "    </tr>\n",
       "  </thead>\n",
       "  <tbody>\n",
       "    <tr>\n",
       "      <th>0</th>\n",
       "      <td>Tuesday</td>\n",
       "      <td>mobile</td>\n",
       "    </tr>\n",
       "    <tr>\n",
       "      <th>1</th>\n",
       "      <td>Tuesday</td>\n",
       "      <td>mobile</td>\n",
       "    </tr>\n",
       "    <tr>\n",
       "      <th>2</th>\n",
       "      <td>Tuesday</td>\n",
       "      <td>mobile</td>\n",
       "    </tr>\n",
       "    <tr>\n",
       "      <th>3</th>\n",
       "      <td>Tuesday</td>\n",
       "      <td>mobile</td>\n",
       "    </tr>\n",
       "    <tr>\n",
       "      <th>4</th>\n",
       "      <td>Tuesday</td>\n",
       "      <td>mobile</td>\n",
       "    </tr>\n",
       "    <tr>\n",
       "      <th>...</th>\n",
       "      <td>...</td>\n",
       "      <td>...</td>\n",
       "    </tr>\n",
       "    <tr>\n",
       "      <th>947630</th>\n",
       "      <td>Friday</td>\n",
       "      <td>web</td>\n",
       "    </tr>\n",
       "    <tr>\n",
       "      <th>947631</th>\n",
       "      <td>Friday</td>\n",
       "      <td>mobile</td>\n",
       "    </tr>\n",
       "    <tr>\n",
       "      <th>947632</th>\n",
       "      <td>Friday</td>\n",
       "      <td>mobile</td>\n",
       "    </tr>\n",
       "    <tr>\n",
       "      <th>947633</th>\n",
       "      <td>Friday</td>\n",
       "      <td>mobile</td>\n",
       "    </tr>\n",
       "    <tr>\n",
       "      <th>947634</th>\n",
       "      <td>Friday</td>\n",
       "      <td>mobile</td>\n",
       "    </tr>\n",
       "  </tbody>\n",
       "</table>\n",
       "<p>947635 rows × 2 columns</p>\n",
       "</div>"
      ],
      "text/plain": [
       "       created_at platform\n",
       "0         Tuesday   mobile\n",
       "1         Tuesday   mobile\n",
       "2         Tuesday   mobile\n",
       "3         Tuesday   mobile\n",
       "4         Tuesday   mobile\n",
       "...           ...      ...\n",
       "947630     Friday      web\n",
       "947631     Friday   mobile\n",
       "947632     Friday   mobile\n",
       "947633     Friday   mobile\n",
       "947634     Friday   mobile\n",
       "\n",
       "[947635 rows x 2 columns]"
      ]
     },
     "metadata": {},
     "output_type": "display_data"
    }
   ],
   "source": [
    "def weekday_spliter(text):\n",
    "    return text.split(' ')[0]\n",
    "df['created_at'] = df['created_at'].apply(weekday_spliter)\n",
    "df1 = df[['created_at', 'platform']]\n",
    "display(df1)"
   ]
  },
  {
   "cell_type": "code",
   "execution_count": 58,
   "metadata": {},
   "outputs": [
    {
     "name": "stdout",
     "output_type": "stream",
     "text": [
      "percent of posts submited by web: 7.745387200768228\n"
     ]
    },
    {
     "data": {
      "text/plain": [
       "{('Thursday',): (('mobile',), 0.9250856032328716),\n",
       " ('Monday',): (('mobile',), 0.919881148594499),\n",
       " ('Tuesday',): (('mobile',), 0.9218983417285359),\n",
       " ('Wednesday',): (('mobile',), 0.9218115611517784),\n",
       " ('Friday',): (('mobile',), 0.9353858293028625),\n",
       " ('Sunday',): (('mobile',), 0.9177723463687151),\n",
       " ('Saturday',): (('mobile',), 0.9163590784124983)}"
      ]
     },
     "execution_count": 58,
     "metadata": {},
     "output_type": "execute_result"
    }
   ],
   "source": [
    "data = df1.values.tolist()\n",
    "i=0\n",
    "for item in data:\n",
    "    if item[1] == 'web':\n",
    "        i+=1\n",
    "print('percent of posts submited by web: ' + str((i/len(data))*100))\n",
    "patterns = pyfpgrowth.find_frequent_patterns(data, 10000)\n",
    "rules = pyfpgrowth.generate_association_rules(patterns,0.8)\n",
    "rules\n"
   ]
  },
  {
   "cell_type": "markdown",
   "metadata": {},
   "source": [
    "# Part 5"
   ]
  },
  {
   "cell_type": "code",
   "execution_count": 4,
   "metadata": {},
   "outputs": [
    {
     "data": {
      "text/plain": [
       "Index(['Unnamed: 0', 'archive_by_user', 'brand', 'cat1', 'cat2', 'cat3',\n",
       "       'city', 'created_at', 'desc', 'id', 'image_count', 'mileage',\n",
       "       'platform', 'price', 'title', 'type', 'year'],\n",
       "      dtype='object')"
      ]
     },
     "execution_count": 4,
     "metadata": {},
     "output_type": "execute_result"
    }
   ],
   "source": [
    "df = pd.read_csv('E:\\DataMining Notebook\\divar_posts_dataset.csv', low_memory=False)\n",
    "df.columns"
   ]
  },
  {
   "cell_type": "code",
   "execution_count": 5,
   "metadata": {},
   "outputs": [
    {
     "data": {
      "text/plain": [
       "[['leisure-hobbies-musical-instruments-guitar-bass-amplifier', 'mobile'],\n",
       " ['for-the-home-furniture-and-home-decore-beds-bedroom', 'mobile'],\n",
       " ['for-the-home-furniture-and-home-decore-carpets', 'mobile'],\n",
       " ['personal-health-beauty-nan', 'mobile'],\n",
       " ['for-the-home-furniture-and-home-decore-sofa-armchair', 'mobile'],\n",
       " ['vehicles-cars-light', 'mobile'],\n",
       " ['electronic-devices-game-consoles-and-video-games-nan', 'mobile'],\n",
       " ['electronic-devices-mobile-tablet-mobile-tablet-accessories', 'mobile'],\n",
       " ['for-the-home-furniture-and-home-decore-beds-bedroom', 'mobile'],\n",
       " ['leisure-hobbies-musical-instruments-guitar-bass-amplifier', 'mobile'],\n",
       " ['for-the-home-utensils-and-appliances-fridge-and-freezer', 'mobile'],\n",
       " ['for-the-home-furniture-and-home-decore-beds-bedroom', 'mobile'],\n",
       " ['for-the-home-furniture-and-home-decore-lighting', 'mobile'],\n",
       " ['vehicles-cars-light', 'mobile'],\n",
       " ['electronic-devices-mobile-tablet-mobile-phones', 'mobile'],\n",
       " ['for-the-home-furniture-and-home-decore-sofa-armchair', 'mobile'],\n",
       " ['for-the-home-furniture-and-home-decore-tables-and-chairs', 'mobile'],\n",
       " ['vehicles-motorcycles-nan', 'mobile'],\n",
       " ['for-the-home-furniture-and-home-decore-tables-and-chairs', 'mobile'],\n",
       " ['personal-clothing-and-shoes-clothing', 'mobile']]"
      ]
     },
     "execution_count": 5,
     "metadata": {},
     "output_type": "execute_result"
    }
   ],
   "source": [
    "data = df[['cat1', 'cat2', 'cat3', 'platform']].values.tolist()\n",
    "for i in range(len(data)):\n",
    "    data[i] = [str(data[i][0]) + '-' + str(data[i][1]) + '-' + str(data[i][2]) , data[i][3]]\n",
    "data[50:70]"
   ]
  },
  {
   "cell_type": "code",
   "execution_count": 55,
   "metadata": {},
   "outputs": [
    {
     "name": "stdout",
     "output_type": "stream",
     "text": [
      "percent of posts submited by web: 7.745387200768228\n"
     ]
    },
    {
     "data": {
      "text/plain": [
       "{('for-the-home-building-and-garden-stove-and-heating',): (('mobile',),\n",
       "  0.913371675053918),\n",
       " ('for-the-home-utensils-and-appliances-fridge-and-freezer',): (('mobile',),\n",
       "  0.9177725968436155),\n",
       " ('leisure-hobbies-bicycle-nan',): (('mobile',), 0.9441637862270673),\n",
       " ('personal-childrens-clothing-and-shoe-nan',): (('mobile',),\n",
       "  0.9525059039622147),\n",
       " ('businesses-batch-nan',): (('mobile',), 0.9354674365288274),\n",
       " ('for-the-home-furniture-and-home-decore-tv-and-stereo-furniture',): (('mobile',),\n",
       "  0.9429427235534775),\n",
       " ('electronic-devices-audio-video-tv-projector',): (('mobile',),\n",
       "  0.914071224717707),\n",
       " ('for-the-home-furniture-and-home-decore-beds-bedroom',): (('mobile',),\n",
       "  0.9156756756756756),\n",
       " ('businesses-equipments-and-machinery-shop-and-cash',): (('mobile',),\n",
       "  0.9315726290516206),\n",
       " ('vehicles-motorcycles-nan',): (('mobile',), 0.9597599717613837),\n",
       " ('businesses-equipments-and-machinery-industrial',): (('mobile',),\n",
       "  0.9216412309231924),\n",
       " ('for-the-home-furniture-and-home-decore-carpets',): (('mobile',),\n",
       "  0.9007208971164116),\n",
       " ('for-the-home-utensils-and-appliances-cookware-tableware',): (('mobile',),\n",
       "  0.9255924364588876),\n",
       " ('for-the-home-furniture-and-home-decore-storage',): (('mobile',),\n",
       "  0.9340480831708902),\n",
       " ('for-the-home-furniture-and-home-decore-antiques-and-art',): (('mobile',),\n",
       "  0.9318924871803697),\n",
       " ('for-the-home-furniture-and-home-decore-tables-and-chairs',): (('mobile',),\n",
       "  0.9151323921670679),\n",
       " ('electronic-devices-game-consoles-and-video-games-nan',): (('mobile',),\n",
       "  0.9259792266299587),\n",
       " ('personal-clothing-and-shoes-shoes-belt-bag',): (('mobile',),\n",
       "  0.940968264442978),\n",
       " ('leisure-hobbies-animals-birds',): (('mobile',), 0.9652307133026927),\n",
       " ('for-the-home-furniture-and-home-decore-sofa-armchair',): (('mobile',),\n",
       "  0.9305552741932216),\n",
       " ('personal-clothing-and-shoes-clothing',): (('mobile',), 0.9459243275419472),\n",
       " ('vehicles-parts-accessories-nan',): (('mobile',), 0.9378237416496982),\n",
       " ('electronic-devices-mobile-tablet-mobile-phones',): (('mobile',),\n",
       "  0.9271423057128152),\n",
       " ('vehicles-cars-light',): (('mobile',), 0.9203244472856182)}"
      ]
     },
     "execution_count": 55,
     "metadata": {},
     "output_type": "execute_result"
    }
   ],
   "source": [
    "i=0\n",
    "for item in data:\n",
    "    if item[1] == 'web':\n",
    "        i+=1\n",
    "print('percent of posts submited by web: ' + str((i/len(data))*100))\n",
    "patterns = pyfpgrowth.find_frequent_patterns(data, 10000)\n",
    "rules = pyfpgrowth.generate_association_rules(patterns,0.9)\n",
    "rules"
   ]
  }
 ],
 "metadata": {
  "kernelspec": {
   "display_name": "Python 3",
   "language": "python",
   "name": "python3"
  },
  "language_info": {
   "codemirror_mode": {
    "name": "ipython",
    "version": 3
   },
   "file_extension": ".py",
   "mimetype": "text/x-python",
   "name": "python",
   "nbconvert_exporter": "python",
   "pygments_lexer": "ipython3",
   "version": "3.8.5"
  }
 },
 "nbformat": 4,
 "nbformat_minor": 4
}
