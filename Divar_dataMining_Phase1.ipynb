{
 "cells": [
  {
   "cell_type": "markdown",
   "metadata": {},
   "source": [
    "<h1 style=\"direction: rtl;\">\n",
    "            پروژه داد کاوی فاز اول\n",
    "</h1>\n",
    "<h2 style=\"direction: rtl;\">\n",
    "  رضا برزگر - محمد رضا پوررضا\n",
    "  \n",
    "  9612762592 - 9622768493\n",
    "</h2>"
   ]
  },
  {
   "cell_type": "code",
   "execution_count": 1,
   "metadata": {},
   "outputs": [],
   "source": [
    "import pandas as pd\n",
    "from matplotlib import pyplot as plt"
   ]
  },
  {
   "cell_type": "code",
   "execution_count": 3,
   "metadata": {
    "scrolled": false
   },
   "outputs": [
    {
     "data": {
      "text/html": [
       "<div>\n",
       "<style scoped>\n",
       "    .dataframe tbody tr th:only-of-type {\n",
       "        vertical-align: middle;\n",
       "    }\n",
       "\n",
       "    .dataframe tbody tr th {\n",
       "        vertical-align: top;\n",
       "    }\n",
       "\n",
       "    .dataframe thead th {\n",
       "        text-align: right;\n",
       "    }\n",
       "</style>\n",
       "<table border=\"1\" class=\"dataframe\">\n",
       "  <thead>\n",
       "    <tr style=\"text-align: right;\">\n",
       "      <th></th>\n",
       "      <th>Unnamed: 0</th>\n",
       "      <th>archive_by_user</th>\n",
       "      <th>brand</th>\n",
       "      <th>cat1</th>\n",
       "      <th>cat2</th>\n",
       "      <th>cat3</th>\n",
       "      <th>city</th>\n",
       "      <th>created_at</th>\n",
       "      <th>desc</th>\n",
       "      <th>id</th>\n",
       "      <th>image_count</th>\n",
       "      <th>mileage</th>\n",
       "      <th>platform</th>\n",
       "      <th>price</th>\n",
       "      <th>title</th>\n",
       "      <th>type</th>\n",
       "      <th>year</th>\n",
       "    </tr>\n",
       "  </thead>\n",
       "  <tbody>\n",
       "    <tr>\n",
       "      <th>0</th>\n",
       "      <td>0</td>\n",
       "      <td>False</td>\n",
       "      <td>NaN</td>\n",
       "      <td>for-the-home</td>\n",
       "      <td>furniture-and-home-decore</td>\n",
       "      <td>sofa-armchair</td>\n",
       "      <td>Tehran</td>\n",
       "      <td>Tuesday 07PM</td>\n",
       "      <td>کلاسیک و شیک و استثنایی\\nچرم مالزی\\nچوب راش\\nف...</td>\n",
       "      <td>54761638662241</td>\n",
       "      <td>5</td>\n",
       "      <td>NaN</td>\n",
       "      <td>mobile</td>\n",
       "      <td>3850000</td>\n",
       "      <td>ست مبلمان و نهارخوری ٩ نفره</td>\n",
       "      <td>NaN</td>\n",
       "      <td>NaN</td>\n",
       "    </tr>\n",
       "    <tr>\n",
       "      <th>1</th>\n",
       "      <td>1</td>\n",
       "      <td>False</td>\n",
       "      <td>NaN</td>\n",
       "      <td>for-the-home</td>\n",
       "      <td>furniture-and-home-decore</td>\n",
       "      <td>antiques-and-art</td>\n",
       "      <td>Mashhad</td>\n",
       "      <td>Tuesday 07PM</td>\n",
       "      <td>سلام,یک عدد گلدون نخل سه طبقه ی سالم دارم با پ...</td>\n",
       "      <td>42727631379133</td>\n",
       "      <td>1</td>\n",
       "      <td>NaN</td>\n",
       "      <td>mobile</td>\n",
       "      <td>30000</td>\n",
       "      <td>گلدون مصنوعی نخل</td>\n",
       "      <td>NaN</td>\n",
       "      <td>NaN</td>\n",
       "    </tr>\n",
       "    <tr>\n",
       "      <th>2</th>\n",
       "      <td>2</td>\n",
       "      <td>False</td>\n",
       "      <td>NaN</td>\n",
       "      <td>vehicles</td>\n",
       "      <td>cars</td>\n",
       "      <td>heavy</td>\n",
       "      <td>Mashhad</td>\n",
       "      <td>Tuesday 07PM</td>\n",
       "      <td>سریال 43j$NUMبدون شکستگی سه حلقه لاستیک نو یک ...</td>\n",
       "      <td>63194439667302</td>\n",
       "      <td>4</td>\n",
       "      <td>NaN</td>\n",
       "      <td>mobile</td>\n",
       "      <td>-1</td>\n",
       "      <td>لودر کاتر پیلار 950</td>\n",
       "      <td>NaN</td>\n",
       "      <td>NaN</td>\n",
       "    </tr>\n",
       "    <tr>\n",
       "      <th>3</th>\n",
       "      <td>3</td>\n",
       "      <td>False</td>\n",
       "      <td>NaN</td>\n",
       "      <td>for-the-home</td>\n",
       "      <td>furniture-and-home-decore</td>\n",
       "      <td>sofa-armchair</td>\n",
       "      <td>Tehran</td>\n",
       "      <td>Tuesday 07PM</td>\n",
       "      <td>مبل راحتی هفت نفره شامل سه نفره یک عدد دونفره ...</td>\n",
       "      <td>19133025491169</td>\n",
       "      <td>4</td>\n",
       "      <td>NaN</td>\n",
       "      <td>mobile</td>\n",
       "      <td>600000</td>\n",
       "      <td>مبل راحتی هفت نفره بامیز جلو مبلی</td>\n",
       "      <td>NaN</td>\n",
       "      <td>NaN</td>\n",
       "    </tr>\n",
       "    <tr>\n",
       "      <th>4</th>\n",
       "      <td>4</td>\n",
       "      <td>False</td>\n",
       "      <td>NaN</td>\n",
       "      <td>personal</td>\n",
       "      <td>baby-and-toys</td>\n",
       "      <td>personal-toys</td>\n",
       "      <td>Karaj</td>\n",
       "      <td>Tuesday 08PM</td>\n",
       "      <td>شارژی کنترلی سویچ حمل تا 35 کیلو صندلی برای دو...</td>\n",
       "      <td>58998998335444</td>\n",
       "      <td>2</td>\n",
       "      <td>NaN</td>\n",
       "      <td>mobile</td>\n",
       "      <td>450000</td>\n",
       "      <td>ماشین شارژی</td>\n",
       "      <td>NaN</td>\n",
       "      <td>NaN</td>\n",
       "    </tr>\n",
       "  </tbody>\n",
       "</table>\n",
       "</div>"
      ],
      "text/plain": [
       "   Unnamed: 0  archive_by_user brand          cat1                       cat2  \\\n",
       "0           0            False   NaN  for-the-home  furniture-and-home-decore   \n",
       "1           1            False   NaN  for-the-home  furniture-and-home-decore   \n",
       "2           2            False   NaN      vehicles                       cars   \n",
       "3           3            False   NaN  for-the-home  furniture-and-home-decore   \n",
       "4           4            False   NaN      personal              baby-and-toys   \n",
       "\n",
       "               cat3     city    created_at  \\\n",
       "0     sofa-armchair   Tehran  Tuesday 07PM   \n",
       "1  antiques-and-art  Mashhad  Tuesday 07PM   \n",
       "2             heavy  Mashhad  Tuesday 07PM   \n",
       "3     sofa-armchair   Tehran  Tuesday 07PM   \n",
       "4     personal-toys    Karaj  Tuesday 08PM   \n",
       "\n",
       "                                                desc              id  \\\n",
       "0  کلاسیک و شیک و استثنایی\\nچرم مالزی\\nچوب راش\\nف...  54761638662241   \n",
       "1  سلام,یک عدد گلدون نخل سه طبقه ی سالم دارم با پ...  42727631379133   \n",
       "2  سریال 43j$NUMبدون شکستگی سه حلقه لاستیک نو یک ...  63194439667302   \n",
       "3  مبل راحتی هفت نفره شامل سه نفره یک عدد دونفره ...  19133025491169   \n",
       "4  شارژی کنترلی سویچ حمل تا 35 کیلو صندلی برای دو...  58998998335444   \n",
       "\n",
       "   image_count  mileage platform    price                              title  \\\n",
       "0            5      NaN   mobile  3850000        ست مبلمان و نهارخوری ٩ نفره   \n",
       "1            1      NaN   mobile    30000                   گلدون مصنوعی نخل   \n",
       "2            4      NaN   mobile       -1                لودر کاتر پیلار 950   \n",
       "3            4      NaN   mobile   600000  مبل راحتی هفت نفره بامیز جلو مبلی   \n",
       "4            2      NaN   mobile   450000                        ماشین شارژی   \n",
       "\n",
       "  type year  \n",
       "0  NaN  NaN  \n",
       "1  NaN  NaN  \n",
       "2  NaN  NaN  \n",
       "3  NaN  NaN  \n",
       "4  NaN  NaN  "
      ]
     },
     "execution_count": 3,
     "metadata": {},
     "output_type": "execute_result"
    }
   ],
   "source": [
    "df = pd.read_csv('E:\\DataMining_Phase1\\divar_posts_dataset.csv')\n",
    "df.head()\n"
   ]
  },
  {
   "cell_type": "markdown",
   "metadata": {},
   "source": [
    "<h1 style=\"direction:rtl;\">\n",
    "    بخش یک\n",
    "</h1>"
   ]
  },
  {
   "cell_type": "markdown",
   "metadata": {},
   "source": [
    "<p style=\"direction:rtl;\">\n",
    "    YEAR\n",
    "    <br>\n",
    "    برای این صفت مقادیر کمتر از سال 1373 مقادیر پرت حساب میشوند.\n",
    "    <br>\n",
    "    این داده از نوع numericمیاشد.\n",
    "</p>"
   ]
  },
  {
   "cell_type": "code",
   "execution_count": 4,
   "metadata": {},
   "outputs": [
    {
     "data": {
      "image/png": "[encoded data removed]",
      "text/plain": [
       "<Figure size 432x288 with 1 Axes>"
      ]
     },
     "metadata": {
      "needs_background": "light"
     },
     "output_type": "display_data"
    },
    {
     "name": "stdout",
     "output_type": "stream",
     "text": [
      "                year\n",
      "count  119313.000000\n",
      "mean     1387.849446\n",
      "std         5.253074\n",
      "min      1366.000000\n",
      "25%      1384.000000\n",
      "50%      1389.000000\n",
      "75%      1392.000000\n",
      "max      1395.000000\n",
      "median = year    1389.0\n",
      "dtype: float64\n",
      "mode =      year\n",
      "0  1393.0\n"
     ]
    }
   ],
   "source": [
    "df_year = pd.DataFrame(pd.to_numeric(df['year'], errors='coerce'))\n",
    "df_year.boxplot(return_type='axes')\n",
    "plt.show()\n",
    "print(df_year.describe())\n",
    "print('median = {}'.format(df_year.median()))\n",
    "print('mode = {}'.format(df_year.mode()))"
   ]
  },
  {
   "cell_type": "code",
   "execution_count": 5,
   "metadata": {},
   "outputs": [
    {
     "data": {
      "image/png": "[encoded data removed]",
      "text/plain": [
       "<Figure size 432x288 with 1 Axes>"
      ]
     },
     "metadata": {
      "needs_background": "light"
     },
     "output_type": "display_data"
    },
    {
     "name": "stdout",
     "output_type": "stream",
     "text": [
      "              price\n",
      "count  9.476350e+05\n",
      "mean   3.398462e+06\n",
      "std    1.371741e+07\n",
      "min   -1.000000e+00\n",
      "25%    3.000000e+04\n",
      "50%    1.500000e+05\n",
      "75%    6.000000e+05\n",
      "max    4.000000e+08\n",
      "median = price    150000.0\n",
      "dtype: float64\n",
      "mode =    price\n",
      "0     -1\n"
     ]
    }
   ],
   "source": [
    "df_price = pd.DataFrame(df['price'])\n",
    "df_price.boxplot(return_type='axes')\n",
    "plt.show()\n",
    "print(df_price.describe())\n",
    "print('median = {}'.format(df_price.median()))\n",
    "print('mode = {}'.format(df_price.mode()))"
   ]
  },
  {
   "cell_type": "markdown",
   "metadata": {},
   "source": [
    "<p style=\"direction:rtl;\">\n",
    "    PRICE\n",
    "    <br>\n",
    "    برای این صفت مقادیر بیشتر از قیمت 2 میلیون تومان مقادیر پرت حساب میشوند.\n",
    "    <br>\n",
    "    این داده از نوع numericمیاشد.\n",
    "</p>"
   ]
  },
  {
   "cell_type": "code",
   "execution_count": 6,
   "metadata": {},
   "outputs": [
    {
     "data": {
      "image/png": "[encoded data removed]",
      "text/plain": [
       "<Figure size 432x288 with 1 Axes>"
      ]
     },
     "metadata": {
      "needs_background": "light"
     },
     "output_type": "display_data"
    },
    {
     "name": "stdout",
     "output_type": "stream",
     "text": [
      "              price\n",
      "count  7.837860e+05\n",
      "mean   4.108903e+06\n",
      "std    1.498613e+07\n",
      "min    5.000000e+02\n",
      "25%    7.500000e+04\n",
      "50%    2.300000e+05\n",
      "75%    8.900000e+05\n",
      "max    4.000000e+08\n",
      "median = price    230000.0\n",
      "dtype: float64\n",
      "mode =     price\n",
      "0  100000\n"
     ]
    }
   ],
   "source": [
    "df = df.loc[(df['price'] >= 500)]\n",
    "df_price = pd.DataFrame(df['price'])\n",
    "df_price.boxplot(showfliers=False, return_type='axes')\n",
    "plt.show()\n",
    "print(df_price.describe())\n",
    "print('median = {}'.format(df_price.median()))\n",
    "print('mode = {}'.format(df_price.mode()))"
   ]
  },
  {
   "cell_type": "markdown",
   "metadata": {},
   "source": [
    "<p style=\"direction:rtl;\">\n",
    "    IMAGE COUNT\n",
    "    <br>\n",
    "    برای این صفت مقادیر بیشتر از ۳ عکس، مقادیر پرت حساب میشوند.\n",
    "    <br>\n",
    "    این داده از نوع numericمیاشد.\n",
    "</p>"
   ]
  },
  {
   "cell_type": "code",
   "execution_count": 7,
   "metadata": {},
   "outputs": [
    {
     "data": {
      "image/png": "[encoded data removed]",
      "text/plain": [
       "<Figure size 432x288 with 1 Axes>"
      ]
     },
     "metadata": {
      "needs_background": "light"
     },
     "output_type": "display_data"
    },
    {
     "name": "stdout",
     "output_type": "stream",
     "text": [
      "         image_count\n",
      "count  783786.000000\n",
      "mean        1.800232\n",
      "std         1.115970\n",
      "min         0.000000\n",
      "25%         1.000000\n",
      "50%         2.000000\n",
      "75%         2.000000\n",
      "max        16.000000\n",
      "median = image_count    2.0\n",
      "dtype: float64\n",
      "mode =    image_count\n",
      "0            1\n"
     ]
    }
   ],
   "source": [
    "df_img_count = pd.DataFrame(df['image_count'])\n",
    "df_img_count.boxplot(return_type='axes')\n",
    "plt.show()\n",
    "print(df_img_count.describe())\n",
    "print('median = {}'.format(df_img_count.median()))\n",
    "print('mode = {}'.format(df_img_count.mode()))"
   ]
  },
  {
   "cell_type": "markdown",
   "metadata": {},
   "source": [
    "<p style=\"direction:rtl;\">\n",
    "    MILEAGE\n",
    "    <br>\n",
    "    برای این صفت مقادیر بیشتر از مقدار تقریبی 380هزار کیلومتر، مقادیر پرت حساب میشوند.\n",
    "    <br>\n",
    "    این داده از نوع numericمیاشد.\n",
    "</p>"
   ]
  },
  {
   "cell_type": "code",
   "execution_count": 8,
   "metadata": {},
   "outputs": [
    {
     "data": {
      "image/png": "[encoded data removed]",
      "text/plain": [
       "<Figure size 432x288 with 1 Axes>"
      ]
     },
     "metadata": {
      "needs_background": "light"
     },
     "output_type": "display_data"
    },
    {
     "name": "stdout",
     "output_type": "stream",
     "text": [
      "             mileage\n",
      "count  103757.000000\n",
      "mean   102977.263520\n",
      "std     97955.099472\n",
      "min         0.000000\n",
      "25%     21000.000000\n",
      "50%     80000.000000\n",
      "75%    160000.000000\n",
      "max    500000.000000\n",
      "median = mileage    80000.0\n",
      "dtype: float64\n",
      "mode =     mileage\n",
      "0  200000.0\n"
     ]
    }
   ],
   "source": [
    "df_age = pd.DataFrame(df['mileage'])\n",
    "df_age.boxplot(return_type='axes')\n",
    "plt.show()\n",
    "print(df_age.describe())\n",
    "print('median = {}'.format(df_age.median()))\n",
    "print('mode = {}'.format(df_age.mode()))"
   ]
  },
  {
   "cell_type": "markdown",
   "metadata": {},
   "source": [
    "<h1 style=\"direction:rtl;\">\n",
    "    بخش 2\n",
    "</h1>"
   ]
  },
  {
   "cell_type": "markdown",
   "metadata": {},
   "source": [
    "<p style=\"direction:rtl; text-align:right\">\n",
    "   بر اساس انواع صفت ها:<br><br><br>\n",
    "صفت اول) کتگوری ها: مقادیر معتبر برای انواع کتگوری ها توسط سایت تعیین میشود و هر مقدار خارج آن نا معتبر است<br>\n",
    "صفت دوم) شهر: مقادیر معتبر برای این صفت شامل تمام شهر ها ، شهرستان ها و روستای ها کشور میباشد<br><br>\n",
    "صفت سوم)آرشیو شده توسط کاربر: مقادیر معتبر برای این صفت فقط true و false است<br><br>\n",
    "صفت چهارم)برند: هر رشته از کاراکتر ها برای این صفت معتبر حساب میشود<br><br>\n",
    "صفت پنجم)تاریخ: هر مقدار روز و ساعت برای این صفت معتبر حساب میشود<br><br>\n",
    "صفت ششم) توضیحات: هر رشته از کاراکتر ها میتواند برای این مقدار معتبر حساب شود<br><br>\n",
    "صفت هفتم) ای دی: هر رشته به طول 12 یا 13 از اعداد میتواند معتبر باشد<br><br>\n",
    "صفت هشتم)تعداد تصاویر: هر عدد صحیح مثبت معتبر است<br><br>\n",
    "صفت نهم)کارکرد : هر مقدار صحیح مثبت کمتر از 400000 برای این صفت معتبر است<br><br>\n",
    "صفت دهم)پلتفرم: فقط مقادیر موبایل و وب برای این صفت معتبر است<br><br>\n",
    "صفت یازدهم)قیمت: هر عدد صحیح مثبت بزرگ تر از 500 و عدد منفی یک برای این صفت معتبر است<br><br>\n",
    "صفت دوازدهم)عنوان: هر رشته کاراکتری برای این مقدار معتبر است<br><br>\n",
    "صفت سیزدهم)نوع: تمامی انواع از پیش تعیین شده توسط سایت برای صفت معتبر است<br><br>\n",
    "صفت چهاردهم)سال: تمامی مقادیر عددی سال های شمسی کمتر از سال جاری معتبر است\n",
    "\n",
    "</p>"
   ]
  },
  {
   "cell_type": "markdown",
   "metadata": {},
   "source": [
    "<p style=\"direction:rtl; text-align:right\">\n",
    "    راهکار های برخورد با داده ها نا معتبر: قبل از بررسی این راهکار ها باید به این نکته اشاره کرد که برای صفاتی مانند کتگوری میتوان با در نظر گرفتن یک دیکشنری از مقادیر مجاز مقادیر نامعتبر را حداقل کرد حال در صورت برخورد با این مقادیر میتوان از راهکار های زیر استفاده کرد:<br><br>\n",
    "1)تمامی مقادیر نامعتبر را در صورت کم بودن تعداد آن ها حذف کرد.<br><br>\n",
    "2)تمامی مقادیر نامعتبر را به مقدار ثابت NA تغییر داد.<br><br>\n",
    "3)برای مقادیر عددی و تاریخ ها میتوان مقدار نامعتبر را به نزدیک مقدار معتبر مجاز تبدیل کرد.<br><br>\n",
    "4) برای بعضی از مقادیر نامعتبر میتوان مقداری را به عنوان مقدار درست حدس زد و این مقادیر را به صورت دستی تصحیح خواهیم کرد.\n",
    "\n",
    "</p>"
   ]
  },
  {
   "cell_type": "markdown",
   "metadata": {},
   "source": [
    "<h1 style=\"direction:rtl\">\n",
    "بخش سه\n",
    "</h1>"
   ]
  },
  {
   "cell_type": "markdown",
   "metadata": {},
   "source": [
    "<p style=\"direction:rtl\">\n",
    "برای صفت هایی که مقادیر آن ها دامنه ای مشخص دارد مانند کتگوری ها ، آرشیو شده توسط یوزر ، شهر ، پلتفرم و تایپ میتوان با استفاده از تعریف کردن یک دیکشنری مقادیر مجاز را محدود کرد و به صورت اتوماتیک فقط مقادیری که شامل مقادیر موجود در دیکشنری باشد به عنوان مقادیر صحیح مورد قبول واقع خواهند شد و از این دیکشنری میتوان برای تشخیص اتوماتیک مقادیر نا صحیح نیز استفاده کرد به این صورت که در صورتی که مقدار در دیکشنری نبود این مقدار ناصحیح است. برای دیگر صفت هایی که مقدار های آن ها دارای دامنه ای مشخص است اما شمارا نیست مثل سال ، تاریخ ، کارکرد ، قیمت ، تعداد تصاویر و ای دی میتوان از عبارت های منظم بر اساس اندازه هر کدام از این داده ها استفاده کرد به این صورت که برای مثال برای سال باید مقادیر صحیح حتما از یک تا 4 عدد باشند و در صورتی که 4 رقمی باشند باید رقم اول حتما 1 و رقم دوم کوچکتر از 4 باشد و در صورتی که رقم دوم 4 است دو رقم بعدی باید حتما دو صفر باشند که تمامی این قوانین ذکر شده را میتوان با عبارات منظم پیاده سازی کرد و با استفاده از این قوانین ایجاد شده میتوان مقادیر نا صحیح را به صورت اتوماتیک پیدا کرد. برای صفت هایی که مقدار آن ها هر چیزی میتواند باشد مثل توضیحات و عنوان راهکار مناسبی نمیتوان پیدا کرد زیر هر مقداری میتواند درست باشد. \n",
    "</p>"
   ]
  },
  {
   "cell_type": "markdown",
   "metadata": {},
   "source": [
    "<h1 style=\"direction:rtl\">\n",
    "بخش چهار\n",
    "</h1>"
   ]
  },
  {
   "cell_type": "code",
   "execution_count": 17,
   "metadata": {},
   "outputs": [
    {
     "name": "stdout",
     "output_type": "stream",
     "text": [
      "first: 0.0\n",
      "second: 82.71964541341642\n",
      "third: 78.90698256321767\n"
     ]
    }
   ],
   "source": [
    "df_nan_val = df.isna().sum(axis=1)\n",
    "num_rows = len(df.index)\n",
    "num_columns = len(df.columns)\n",
    "count = 0\n",
    "for item in df_nan_val:\n",
    "    if item != 0:\n",
    "        count = count + 1\n",
    "print('first: {}'.format(100 - ((count / num_rows) * 100)))\n",
    "\n",
    "# formula 2\n",
    "df_second = df.drop(['brand', 'mileage', 'year', 'type'], axis=1)\n",
    "df_second = df_second.isna().sum(axis=1)\n",
    "count = 0\n",
    "for item in df_second:\n",
    "    if item != 0:\n",
    "        count = count + 1\n",
    "print('second: {}'.format(100 - ((count / num_rows) * 100)))\n",
    "#third formula\n",
    "all_nan = df.isna().sum().sum()\n",
    "print('third: {}'.format(100-((all_nan/(num_rows*num_columns)*100))))"
   ]
  },
  {
   "cell_type": "markdown",
   "metadata": {},
   "source": [
    "<p style=\"direction:rtl\">\n",
    " برای این داده هایی که در اختیار ما هست، روش اول اصلا روش مناسبی نمیباشد زیرا همه رکورد ها دارای صفت های خالی میباشند و همانطور که میبینیم مقدار محاسبه شده برابر صفر میباشد.\n",
    "    روش سوم میتواند روش خوبی باشد اما از نظر منطقی بهترین روش برای داده های ما نیست زیرا مقادیر NAN بیشتر در چند صفت به خصوص هستند و در کل داده ها پخش نشده اند، بنابراین بهترین روش روش دوم است.\n",
    "    در این روش محاسبه کامل بودن، چند صفت مخصوص را انتخاب کرده ایم و کامل بودن داده ها را بر اساس همان صفت های مهم سنجیده ایم، که بهترین درصد را نیز دارد.\n",
    "</p>"
   ]
  },
  {
   "cell_type": "markdown",
   "metadata": {},
   "source": [
    "<h1 style=\"direction:rtl\">\n",
    "بخش پنج\n",
    "</h1>"
   ]
  },
  {
   "cell_type": "markdown",
   "metadata": {},
   "source": [
    "<p style=\"direction:rtl\">\n",
    "1- یکی از مهم ترین چالش ها میتواند این باشد که بررسی کنیم چقدر داده های ویژگی archive_by_user صحیح میباشد، و این که آیا میتوانیم از این ویژگی استفاده کنیم تا بفهمیم کدام آگهی ها منجر به اتفاق افتادن یک معامله شده است.<br><br>\n",
    "2- بعضی از مقادیری که برای قیمت ثبت شده است، داده های معتبری نیستند. به عنوان مثال قیمت یک ماشین در داده ها 320 تومان ثبت شده است. که به احتمال زیاد منظور کاربر 320میلیون تومان بوده است. تبدیل کردن این مقادیر به مقادیر معتبر میتواند یک چالش باشد.<br><br>\n",
    "3- ویژگی mileage یا همان کارکرد، به جز برای دسته بندی ماشین، در دسته بندی دیگری استفاده نشده است و مقادیر آن خالی است. این خالی بودن روی کامل بودن داده ها تاثیر زیادی میگذارد. \n",
    "ویژگی brand، year و type نیز مانند ویژگی mileage، در بسیاری از رکورد ها خالی است و این ویژگی ها نیز تاثیر زیادی بر روی زمینه کامل بودن داده ها میگذارد\n",
    "<br><br>4- پیدا کردن یک راهکار برای چک کردن صحت و معتر بودن ویژگی های desc و title<br><br> \n",
    "5- برای استفاده از این داده ها در فاز های بعدی، باید فیلد های خالی را مدیریت کنیم چون میخواهیم الگوریتم های خوشه بندی را روی داده ها اجرا کنیم.\n",
    "چون فیلد های خالی در داده ها زیاد است، حذف کردن آنها نمیتواند راه حل خوبی باشد.\n",
    "</p>"
   ]
  },
  {
   "cell_type": "markdown",
   "metadata": {},
   "source": [
    "<h2 style=\"direction:rtl;\">\n",
    "   <a href=\"https://colab.research.google.com/drive/1KQJXHQ5oyItGo63yLxA-NgO7DjTwX-Ix?usp=sharing\">لینک تمرین نمره اضافه</a>\n",
    "</h2>"
   ]
  }
 ],
 "metadata": {
  "kernelspec": {
   "display_name": "Python 3",
   "language": "python",
   "name": "python3"
  },
  "language_info": {
   "codemirror_mode": {
    "name": "ipython",
    "version": 3
   },
   "file_extension": ".py",
   "mimetype": "text/x-python",
   "name": "python",
   "nbconvert_exporter": "python",
   "pygments_lexer": "ipython3",
   "version": "3.8.5"
  }
 },
 "nbformat": 4,
 "nbformat_minor": 4
}
